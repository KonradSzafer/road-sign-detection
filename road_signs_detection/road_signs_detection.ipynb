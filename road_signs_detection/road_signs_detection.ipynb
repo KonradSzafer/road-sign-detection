{
 "cells": [
  {
   "cell_type": "code",
   "execution_count": null,
   "metadata": {},
   "outputs": [],
   "source": [
    "import numpy as np\n",
    "import pandas as pd"
   ]
  },
  {
   "cell_type": "code",
   "execution_count": null,
   "metadata": {},
   "outputs": [],
   "source": [
    "from data_utils import get_abs_path, split_dataset\n",
    "from data_utils import parse_annotations_xml, create_annotations_list"
   ]
  },
  {
   "cell_type": "code",
   "execution_count": null,
   "metadata": {},
   "outputs": [],
   "source": [
    "root_dir = get_abs_path(1)\n",
    "dataset_images_dir = root_dir / 'data' / 'images'\n",
    "dataset_annotations_dir = root_dir / 'data' / 'annotations'\n",
    "train_images_dir = root_dir / 'road_signs_detection' / 'train' / 'images'\n",
    "test_images_dir = root_dir / 'road_signs_detection' / 'test' / 'images'\n",
    "train_annotations_dir = root_dir / 'road_signs_detection' / 'train' / 'annotations'\n",
    "test_annotations_dir = root_dir / 'road_signs_detection' / 'test' / 'annotations'\n",
    "train_images_dir.mkdir(exist_ok=True, parents=True)\n",
    "test_images_dir.mkdir(exist_ok=True, parents=True)\n",
    "train_annotations_dir.mkdir(exist_ok=True, parents=True)\n",
    "test_annotations_dir.mkdir(exist_ok=True, parents=True)"
   ]
  },
  {
   "cell_type": "code",
   "execution_count": null,
   "metadata": {},
   "outputs": [],
   "source": [
    "# split_dataset(  dataset_images_dir, dataset_annotations_dir,\n",
    "#                 train_images_dir, train_annotations_dir,\n",
    "#                 test_images_dir, test_annotations_dir)"
   ]
  },
  {
   "cell_type": "code",
   "execution_count": null,
   "metadata": {},
   "outputs": [],
   "source": [
    "train_annotations_list = create_annotations_list(train_annotations_dir)\n",
    "train_df = pd.DataFrame(train_annotations_list)\n",
    "print('\\nTrain stats:')\n",
    "print(train_df['class'].value_counts())\n",
    "\n",
    "test_annotations_list = create_annotations_list(test_annotations_dir)\n",
    "test_df = pd.DataFrame(test_annotations_list)\n",
    "print('\\nTest stats:')\n",
    "print(test_df['class'].value_counts())"
   ]
  },
  {
   "cell_type": "code",
   "execution_count": null,
   "metadata": {},
   "outputs": [],
   "source": [
    "class_idx = {'speedlimit': 0, 'stop': 1, 'crosswalk': 2, 'trafficlight': 3}\n",
    "train_df['class_idx'] = train_df['class'].apply(lambda i: class_idx[i])\n",
    "\n",
    "train_df.tail()"
   ]
  }
 ],
 "metadata": {
  "interpreter": {
   "hash": "96f4e9d9cee1c8ae9bd48da6330bc514dc698139108d0f8b9d3c1022482ebcc2"
  },
  "kernelspec": {
   "display_name": "Python 3.9.7 ('wdsi_semester_project')",
   "language": "python",
   "name": "python3"
  },
  "language_info": {
   "codemirror_mode": {
    "name": "ipython",
    "version": 3
   },
   "file_extension": ".py",
   "mimetype": "text/x-python",
   "name": "python",
   "nbconvert_exporter": "python",
   "pygments_lexer": "ipython3",
   "version": "3.9.7"
  }
 },
 "nbformat": 4,
 "nbformat_minor": 2
}
