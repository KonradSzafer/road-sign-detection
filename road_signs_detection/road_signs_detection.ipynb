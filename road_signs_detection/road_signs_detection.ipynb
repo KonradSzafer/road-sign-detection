{
 "cells": [
  {
   "cell_type": "code",
   "execution_count": null,
   "metadata": {},
   "outputs": [],
   "source": [
    "import numpy as np\n",
    "import pandas as pd\n",
    "import matplotlib.pyplot as plt\n",
    "from sklearn.utils import shuffle\n",
    "import cv2"
   ]
  },
  {
   "cell_type": "code",
   "execution_count": null,
   "metadata": {},
   "outputs": [],
   "source": [
    "from data_utils import get_abs_path\n",
    "from data_utils import parse_annotations_xml, create_annotations_list\n",
    "from image_utils import get_bounding_box, resize_img_and_bb"
   ]
  },
  {
   "cell_type": "code",
   "execution_count": null,
   "metadata": {},
   "outputs": [],
   "source": [
    "root_dir = get_abs_path(1)\n",
    "annotations_dir = root_dir / 'data' / 'annotations'\n",
    "images_dir = root_dir / 'data' / 'images'\n",
    "resized_images_dir = root_dir / 'data' / 'resized_images'\n",
    "resized_images_dir.mkdir(exist_ok=True, parents=True)\n",
    "\n",
    "# train_images_dir = root_dir / 'road_signs_detection' / 'train' / 'images'\n",
    "# test_images_dir = root_dir / 'road_signs_detection' / 'test' / 'images'\n",
    "# train_annotations_dir = root_dir / 'road_signs_detection' / 'train' / 'annotations' # rem\n",
    "# test_annotations_dir = root_dir / 'road_signs_detection' / 'test' / 'annotations' # rem\n",
    "# train_images_dir.mkdir(exist_ok=True, parents=True)\n",
    "# test_images_dir.mkdir(exist_ok=True, parents=True)\n",
    "# train_annotations_dir.mkdir(exist_ok=True, parents=True) # rem\n",
    "# test_annotations_dir.mkdir(exist_ok=True, parents=True) # rem"
   ]
  },
  {
   "cell_type": "code",
   "execution_count": null,
   "metadata": {},
   "outputs": [],
   "source": [
    "annotations_list = create_annotations_list(annotations_dir)\n",
    "df = pd.DataFrame(annotations_list)\n",
    "df = shuffle(df)\n",
    "df.insert(3, 'resized_img_filename', '')\n",
    "df.insert(7, 'class_label', '')\n",
    "df.insert(12, 'resized_xmin', '')\n",
    "df.insert(13, 'resized_xmax', '')\n",
    "df.insert(14, 'resized_ymin', '')\n",
    "df.insert(15, 'resized_ymax', '')\n",
    "\n",
    "class_idx = {'speedlimit': 0, 'stop': 1, 'crosswalk': 2, 'trafficlight': 3}\n",
    "df['class_label'] = df['class'].apply(lambda i: class_idx[i])\n",
    "\n",
    "print(df['class'].value_counts())\n",
    "df.tail()"
   ]
  },
  {
   "cell_type": "code",
   "execution_count": null,
   "metadata": {},
   "outputs": [],
   "source": [
    "img_width = 300\n",
    "img_height = 400\n",
    "\n",
    "for idx, row in df.iterrows():\n",
    "    img_path = row['img_filename']\n",
    "    bounding_box = get_bounding_box(row)\n",
    "\n",
    "    resized_img, resized_bounding_box = resize_img_and_bb(img_path, bounding_box, img_width, img_height)\n",
    "\n",
    "    resized_img_filename = str(resized_images_dir) + '/' + row['name'] + '.png'\n",
    "    cv2.imwrite(resized_img_filename, resized_img)\n",
    "\n",
    "    df.at[idx, 'resized_img_filename'] = resized_img_filename\n",
    "    df.at[idx, 'resized_xmin'] = resized_bounding_box[0]\n",
    "    df.at[idx, 'resized_xmax'] = resized_bounding_box[1]\n",
    "    df.at[idx, 'resized_ymin'] = resized_bounding_box[2]\n",
    "    df.at[idx, 'resized_ymax'] = resized_bounding_box[3]\n",
    "\n",
    "df.tail()"
   ]
  },
  {
   "cell_type": "code",
   "execution_count": null,
   "metadata": {},
   "outputs": [],
   "source": [
    "# split_dataset(  dataset_images_dir, dataset_annotations_dir,\n",
    "#                 train_images_dir, train_annotations_dir,\n",
    "#                 test_images_dir, test_annotations_dir)"
   ]
  },
  {
   "cell_type": "code",
   "execution_count": null,
   "metadata": {},
   "outputs": [],
   "source": [
    "# train_annotations_list = create_annotations_list(train_annotations_dir)\n",
    "# train_df = pd.DataFrame(train_annotations_list)\n",
    "# print('\\nTrain stats:')\n",
    "# print(train_df['class'].value_counts())\n",
    "\n",
    "# test_annotations_list = create_annotations_list(test_annotations_dir)\n",
    "# test_df = pd.DataFrame(test_annotations_list)\n",
    "# print('\\nTest stats:')\n",
    "# print(test_df['class'].value_counts())"
   ]
  },
  {
   "cell_type": "code",
   "execution_count": null,
   "metadata": {},
   "outputs": [],
   "source": [
    "# class_idx = {'speedlimit': 0, 'stop': 1, 'crosswalk': 2, 'trafficlight': 3}\n",
    "# train_df['class_idx'] = train_df['class'].apply(lambda i: class_idx[i])\n",
    "# train_df.tail(3)"
   ]
  },
  {
   "cell_type": "code",
   "execution_count": null,
   "metadata": {},
   "outputs": [],
   "source": [
    "# load images paths\n",
    "# load images annotations\n",
    "# resize image and save to new dir\n",
    "# get resized bb and save to dataframe\n",
    "# split dataframe"
   ]
  }
 ],
 "metadata": {
  "interpreter": {
   "hash": "96f4e9d9cee1c8ae9bd48da6330bc514dc698139108d0f8b9d3c1022482ebcc2"
  },
  "kernelspec": {
   "display_name": "Python 3.9.7 ('wdsi_semester_project')",
   "language": "python",
   "name": "python3"
  },
  "language_info": {
   "codemirror_mode": {
    "name": "ipython",
    "version": 3
   },
   "file_extension": ".py",
   "mimetype": "text/x-python",
   "name": "python",
   "nbconvert_exporter": "python",
   "pygments_lexer": "ipython3",
   "version": "3.9.7"
  }
 },
 "nbformat": 4,
 "nbformat_minor": 2
}
